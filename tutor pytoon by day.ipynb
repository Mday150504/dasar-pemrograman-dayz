{
 "cells": [
  {
   "attachments": {},
   "cell_type": "markdown",
   "id": "e291d7d2",
   "metadata": {},
   "source": [
    "<h1><font color=\"blue\">legenda</font><font color=\"yellow\">seluler</font> (⌐■_■)–︻╦╤─</h1>"
   ]
  },
  {
   "cell_type": "code",
   "execution_count": 28,
   "id": "7fc7f287",
   "metadata": {},
   "outputs": [
    {
     "ename": "SyntaxError",
     "evalue": "invalid syntax (4003162414.py, line 1)",
     "output_type": "error",
     "traceback": [
      "\u001b[1;36m  Input \u001b[1;32mIn [28]\u001b[1;36m\u001b[0m\n\u001b[1;33m    tipe data di python yaitu interger, float ,boolean,string,complex</b>\u001b[0m\n\u001b[1;37m         ^\u001b[0m\n\u001b[1;31mSyntaxError\u001b[0m\u001b[1;31m:\u001b[0m invalid syntax\n"
     ]
    }
   ],
   "source": [
    "tipe data di python yaitu interger, float ,boolean,string,complex</b>"
   ]
  },
  {
   "cell_type": "code",
   "execution_count": 35,
   "id": "06d51469",
   "metadata": {},
   "outputs": [
    {
     "name": "stdout",
     "output_type": "stream",
     "text": [
      "10\n",
      "<class 'int'>\n"
     ]
    }
   ],
   "source": [
    "data_integer = 10\n",
    "data_integer\n",
    "print(data_integer)\n",
    "print(type(data_integer))\n"
   ]
  },
  {
   "cell_type": "code",
   "execution_count": 10,
   "id": "8ceb88f8",
   "metadata": {},
   "outputs": [
    {
     "name": "stdout",
     "output_type": "stream",
     "text": [
      "10.5\n",
      "<class 'float'>\n"
     ]
    }
   ],
   "source": [
    "data_float = 10.5\n",
    "print(data_float)\n",
    "print(type(data_float))"
   ]
  },
  {
   "cell_type": "code",
   "execution_count": 29,
   "id": "d62e70dc",
   "metadata": {},
   "outputs": [
    {
     "name": "stdout",
     "output_type": "stream",
     "text": [
      "True\n",
      "<class 'bool'>\n"
     ]
    }
   ],
   "source": [
    "data_boolean = True or False\n",
    "print(data_boolean)\n",
    "print(type(data_boolean))"
   ]
  },
  {
   "cell_type": "code",
   "execution_count": 13,
   "id": "7575cf1c",
   "metadata": {},
   "outputs": [
    {
     "name": "stdout",
     "output_type": "stream",
     "text": [
      "belajar\n",
      "<class 'str'>\n"
     ]
    }
   ],
   "source": [
    "data_string = \"belajar\"\n",
    "print(data_string)\n",
    "print(type(data_string))"
   ]
  },
  {
   "cell_type": "code",
   "execution_count": 16,
   "id": "c4e30c00",
   "metadata": {},
   "outputs": [
    {
     "name": "stdout",
     "output_type": "stream",
     "text": [
      "(5+6j)\n",
      "<class 'complex'>\n"
     ]
    }
   ],
   "source": [
    "data_complex = complex(5,6)\n",
    "print(data_complex)\n",
    "print(type(data_complex))"
   ]
  },
  {
   "cell_type": "markdown",
   "id": "7a388d35",
   "metadata": {},
   "source": [
    "<h2>Casting</h2><chr>\n",
    "<b><font color=\"blue\">casting</font> adalah proses melakukan konversi tipe data <br>\n",
    "<ol>\n",
    "    <li>sintak casting mengunakan (tipe data) </li>\n",
    "    <li>casting dapat ilakukan untuk semua tipe data</li>"
   ]
  },
  {
   "cell_type": "code",
   "execution_count": 20,
   "id": "01e4d037",
   "metadata": {},
   "outputs": [
    {
     "name": "stdout",
     "output_type": "stream",
     "text": [
      "100\n"
     ]
    }
   ],
   "source": [
    "print(data_integer)"
   ]
  },
  {
   "cell_type": "code",
   "execution_count": 33,
   "id": "2cc14bc2",
   "metadata": {},
   "outputs": [
    {
     "name": "stdout",
     "output_type": "stream",
     "text": [
      "100\n",
      "100.0\n",
      "True\n",
      "<class 'str'>\n",
      "<class 'float'>\n",
      "<class 'bool'>\n"
     ]
    }
   ],
   "source": [
    "int_to_string = str(data_integer)\n",
    "int_to_float = float(data_integer)\n",
    "int_to_bool = bool(data_integer)\n",
    "\n",
    "print (int_to_string)\n",
    "print (int_to_float)\n",
    "print (int_to_bool)\n",
    "\n",
    "\n",
    "print (type(int_to_string))\n",
    "print (type(int_to_float))\n",
    "print (type(int_to_bool))"
   ]
  },
  {
   "cell_type": "code",
   "execution_count": 36,
   "id": "c0654510",
   "metadata": {},
   "outputs": [
    {
     "name": "stdout",
     "output_type": "stream",
     "text": [
      "10\n",
      "10.0\n",
      "True\n"
     ]
    }
   ],
   "source": [
    "int_to_string = str(data_integer)\n",
    "int_to_float = float(data_integer)\n",
    "int_to_bool = bool(data_integer)\n",
    "\n",
    "print (int_to_string)\n",
    "print (int_to_float)\n",
    "print (int_to_bool)\n",
    "\n",
    "\n"
   ]
  },
  {
   "cell_type": "code",
   "execution_count": null,
   "id": "dd06c311",
   "metadata": {},
   "outputs": [],
   "source": []
  }
 ],
 "metadata": {
  "kernelspec": {
   "display_name": "Python 3 (ipykernel)",
   "language": "python",
   "name": "python3"
  },
  "language_info": {
   "codemirror_mode": {
    "name": "ipython",
    "version": 3
   },
   "file_extension": ".py",
   "mimetype": "text/x-python",
   "name": "python",
   "nbconvert_exporter": "python",
   "pygments_lexer": "ipython3",
   "version": "3.9.12"
  }
 },
 "nbformat": 4,
 "nbformat_minor": 5
}
